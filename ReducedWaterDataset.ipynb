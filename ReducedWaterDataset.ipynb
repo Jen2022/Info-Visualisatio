{
  "nbformat": 4,
  "nbformat_minor": 0,
  "metadata": {
    "colab": {
      "provenance": []
    },
    "kernelspec": {
      "name": "python3",
      "display_name": "Python 3"
    },
    "language_info": {
      "name": "python"
    }
  },
  "cells": [
    {
      "cell_type": "code",
      "execution_count": 1,
      "metadata": {
        "colab": {
          "base_uri": "https://localhost:8080/"
        },
        "id": "Juqh6gGXW3WC",
        "outputId": "a91756bc-4f15-40f3-978b-3eec95f66680"
      },
      "outputs": [
        {
          "output_type": "stream",
          "name": "stdout",
          "text": [
            "   row_id   lat_deg    lon_deg report_date status_id            water_source  \\\n",
            "0    3957  8.073136  38.617037  04/06/2017         y                     NaN   \n",
            "1   33512  7.373784  40.503824  08/04/2020         y        Protected Spring   \n",
            "2   35125  0.773458  34.929509  03/18/2015         y  Protected Shallow Well   \n",
            "3   37760  0.780576  34.963640  03/18/2015         y                Borehole   \n",
            "4   38118  0.779266  34.971120  03/18/2015         y  Protected Shallow Well   \n",
            "\n",
            "  water_tech facility_type country_name  install_year    installer  pay status  \n",
            "0        NaN           NaN     Ethiopia           NaN  Private-CRS  NaN    NaN  \n",
            "1        NaN      Improved     Ethiopia        2019.0     WaterAid  NaN    NaN  \n",
            "2        NaN      Improved        Kenya           NaN          NaN  NaN    NaN  \n",
            "3        NaN      Improved        Kenya           NaN          NaN  NaN    NaN  \n",
            "4        NaN      Improved        Kenya           NaN          NaN  NaN    NaN  \n"
          ]
        }
      ],
      "source": [
        "# Import the necessary libraries\n",
        "import pandas as pd\n",
        "\n",
        "# URL of the dataset\n",
        "url = 'https://raw.githubusercontent.com/rfordatascience/tidytuesday/master/data/2021/2021-05-04/water.csv'\n",
        "\n",
        "# Load the dataset into a Pandas DataFrame\n",
        "df = pd.read_csv(url)\n",
        "\n",
        "# Display the first few rows of the dataframe\n",
        "print(df.head())\n"
      ]
    },
    {
      "cell_type": "code",
      "source": [
        "# Trim the dataframe to the first 20,000 records\n",
        "df_trimmed = df.iloc[:20000]\n",
        "\n",
        "# Display the size of the trimmed dataframe\n",
        "print(df_trimmed.shape)\n"
      ],
      "metadata": {
        "colab": {
          "base_uri": "https://localhost:8080/"
        },
        "id": "fxl4o795W-W7",
        "outputId": "1b41b929-a8a2-485b-ad3b-8ef6eadc0151"
      },
      "execution_count": 2,
      "outputs": [
        {
          "output_type": "stream",
          "name": "stdout",
          "text": [
            "(20000, 13)\n"
          ]
        }
      ]
    },
    {
      "cell_type": "code",
      "source": [
        "# Randomly sample 20,000 records from the dataframe\n",
        "df_sampled = df.sample(n=20000, random_state=42)\n",
        "\n",
        "# Display the size of the sampled dataframe\n",
        "print(df_sampled.shape)\n"
      ],
      "metadata": {
        "colab": {
          "base_uri": "https://localhost:8080/"
        },
        "id": "lBXsVm2OXCMK",
        "outputId": "176f33e9-3ef8-4783-cc5b-018af51252fd"
      },
      "execution_count": 3,
      "outputs": [
        {
          "output_type": "stream",
          "name": "stdout",
          "text": [
            "(20000, 13)\n"
          ]
        }
      ]
    },
    {
      "cell_type": "code",
      "source": [
        "# To save the reduced dataset to a CSV file\n",
        "df_sampled.to_csv('reduced_water_dataset.csv', index=False)\n",
        "\n",
        "# If you're using Google Colab and want to download the file to your local machine\n",
        "from google.colab import files\n",
        "files.download('reduced_water_dataset.csv')\n"
      ],
      "metadata": {
        "colab": {
          "base_uri": "https://localhost:8080/",
          "height": 17
        },
        "id": "lUszlNFKXEGY",
        "outputId": "9e620439-6b10-481a-9b51-9c331a2d70e8"
      },
      "execution_count": 4,
      "outputs": [
        {
          "output_type": "display_data",
          "data": {
            "text/plain": [
              "<IPython.core.display.Javascript object>"
            ],
            "application/javascript": [
              "\n",
              "    async function download(id, filename, size) {\n",
              "      if (!google.colab.kernel.accessAllowed) {\n",
              "        return;\n",
              "      }\n",
              "      const div = document.createElement('div');\n",
              "      const label = document.createElement('label');\n",
              "      label.textContent = `Downloading \"${filename}\": `;\n",
              "      div.appendChild(label);\n",
              "      const progress = document.createElement('progress');\n",
              "      progress.max = size;\n",
              "      div.appendChild(progress);\n",
              "      document.body.appendChild(div);\n",
              "\n",
              "      const buffers = [];\n",
              "      let downloaded = 0;\n",
              "\n",
              "      const channel = await google.colab.kernel.comms.open(id);\n",
              "      // Send a message to notify the kernel that we're ready.\n",
              "      channel.send({})\n",
              "\n",
              "      for await (const message of channel.messages) {\n",
              "        // Send a message to notify the kernel that we're ready.\n",
              "        channel.send({})\n",
              "        if (message.buffers) {\n",
              "          for (const buffer of message.buffers) {\n",
              "            buffers.push(buffer);\n",
              "            downloaded += buffer.byteLength;\n",
              "            progress.value = downloaded;\n",
              "          }\n",
              "        }\n",
              "      }\n",
              "      const blob = new Blob(buffers, {type: 'application/binary'});\n",
              "      const a = document.createElement('a');\n",
              "      a.href = window.URL.createObjectURL(blob);\n",
              "      a.download = filename;\n",
              "      div.appendChild(a);\n",
              "      a.click();\n",
              "      div.remove();\n",
              "    }\n",
              "  "
            ]
          },
          "metadata": {}
        },
        {
          "output_type": "display_data",
          "data": {
            "text/plain": [
              "<IPython.core.display.Javascript object>"
            ],
            "application/javascript": [
              "download(\"download_9c19ca1a-abd7-43c8-9650-5a657f5ea98e\", \"reduced_water_dataset.csv\", 2382120)"
            ]
          },
          "metadata": {}
        }
      ]
    },
    {
      "cell_type": "code",
      "source": [],
      "metadata": {
        "id": "Z5DoLMI-XGGI"
      },
      "execution_count": null,
      "outputs": []
    }
  ]
}